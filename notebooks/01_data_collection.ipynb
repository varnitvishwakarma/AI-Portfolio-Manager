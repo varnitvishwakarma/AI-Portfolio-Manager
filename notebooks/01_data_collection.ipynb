{
 "cells": [
  {
   "cell_type": "code",
   "execution_count": 1,
   "id": "250f213f",
   "metadata": {},
   "outputs": [],
   "source": [
    "import yfinance as yf\n",
    "import os"
   ]
  },
  {
   "cell_type": "code",
   "execution_count": 4,
   "id": "223f86ab",
   "metadata": {},
   "outputs": [
    {
     "name": "stderr",
     "output_type": "stream",
     "text": [
      "[*********************100%***********************]  6 of 6 completed"
     ]
    },
    {
     "name": "stdout",
     "output_type": "stream",
     "text": [
      "Downloading data...\n",
      "Saved ^GSPC data to data/raw/GSPC.csv\n",
      "Saved ^FTSE data to data/raw/FTSE.csv\n",
      "Saved ^N225 data to data/raw/N225.csv\n",
      "Saved EEM data to data/raw/EEM.csv\n",
      "Saved GC=F data to data/raw/GC=F.csv\n",
      "Saved ^TNX data to data/raw/TNX.csv\n",
      "✅ Data collection completed and saved in data/raw/\n"
     ]
    },
    {
     "name": "stderr",
     "output_type": "stream",
     "text": [
      "\n"
     ]
    }
   ],
   "source": [
    "os.makedirs(\"./data/raw\", exist_ok=True)\n",
    "\n",
    "tickers = [\"^GSPC\", \"^FTSE\", \"^N225\", \"EEM\", \"GC=F\", \"^TNX\"]\n",
    "start_date = \"2010-01-01\"\n",
    "end_date = \"2020-12-31\"\n",
    "\n",
    "print(\"Downloading data...\")\n",
    "data = yf.download(tickers, start=start_date, end=end_date, group_by='ticker', auto_adjust=True)\n",
    "\n",
    "for ticker in tickers:\n",
    "    df = data[ticker].copy()\n",
    "    file_path = f\"data/raw/{ticker.replace('^','')}.csv\"\n",
    "    df.to_csv(file_path)\n",
    "    print(f\"Saved {ticker} data to {file_path}\")\n",
    "\n",
    "print(\"✅ Data collection completed and saved in data/raw/\")"
   ]
  },
  {
   "cell_type": "code",
   "execution_count": null,
   "id": "0d83255c",
   "metadata": {},
   "outputs": [],
   "source": []
  }
 ],
 "metadata": {
  "kernelspec": {
   "display_name": ".aienv",
   "language": "python",
   "name": "python3"
  },
  "language_info": {
   "codemirror_mode": {
    "name": "ipython",
    "version": 3
   },
   "file_extension": ".py",
   "mimetype": "text/x-python",
   "name": "python",
   "nbconvert_exporter": "python",
   "pygments_lexer": "ipython3",
   "version": "3.10.6"
  }
 },
 "nbformat": 4,
 "nbformat_minor": 5
}
